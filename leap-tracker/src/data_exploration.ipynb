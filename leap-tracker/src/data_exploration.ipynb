{
 "cells": [
  {
   "cell_type": "code",
   "execution_count": 37,
   "metadata": {},
   "outputs": [],
   "source": [
    "import pickle\n",
    "import numpy as np\n",
    "import scipy\n",
    "import os\n",
    "import matplotlib.pyplot as plt\n",
    "from neural_tuning import generate_tuning_curves, create_spikes_array, plot_raster\n",
    "seed = 10050"
   ]
  },
  {
   "cell_type": "code",
   "execution_count": 38,
   "metadata": {},
   "outputs": [],
   "source": [
    "base_dir = os.path.expanduser('~') + '/leapTracker/datafiles/letters/characterBlocks'\n",
    "datafile = os.path.join(base_dir, 'block1_2022-10-19.csv')\n",
    "timingfile = os.path.join(base_dir, 'block1_2022-10-19.pkl')\n",
    "# timing = pickle.load(open(timingfile, 'rb'))\n",
    "# datafile = os.path.join(base_dir, 'block2_2022-10-19.pkl')\n",
    "data = pickle.load(open(timingfile, 'rb'))"
   ]
  },
  {
   "cell_type": "code",
   "execution_count": 39,
   "metadata": {},
   "outputs": [],
   "source": [
    "tuning_data = scipy.io.loadmat('../datafiles/tuning.mat')\n",
    "tuning_data = np.array(tuning_data['tuningMat'])\n",
    "n_units = 192\n",
    "tuning_curves = generate_tuning_curves(tuning_data, n_units, seed)"
   ]
  },
  {
   "cell_type": "code",
   "execution_count": 36,
   "metadata": {},
   "outputs": [
    {
     "name": "stdout",
     "output_type": "stream",
     "text": [
      "106.76667792569816\n",
      "(55, 5)\n"
     ]
    }
   ],
   "source": [
    "data_array = np.genfromtxt(datafile, delimiter=',', skip_header = 2,\n",
    "                  usecols=(0,1,2,3,4), skip_footer=1)\n",
    "print(data_array.shape)\n",
    "# data_array = data['motionData']\n",
    "fs = 1 / np.mean(data_array[:,0])\n",
    "print(fs)\n",
    "print(data_array.shape)"
   ]
  },
  {
   "cell_type": "code",
   "execution_count": 25,
   "metadata": {},
   "outputs": [
    {
     "name": "stdout",
     "output_type": "stream",
     "text": [
      "Forward: 214; Back: 53\n"
     ]
    }
   ],
   "source": [
    "num_forward = np.rint(2 * fs).astype(int)\n",
    "num_back = np.rint(0.5 * fs).astype(int)\n",
    "print('Forward: {}; Back: {}'.format(num_forward, num_back))"
   ]
  },
  {
   "cell_type": "code",
   "execution_count": 26,
   "metadata": {},
   "outputs": [
    {
     "name": "stdout",
     "output_type": "stream",
     "text": [
      "dict_keys(['timelist', 'charPrompts', 'motionData'])\n"
     ]
    }
   ],
   "source": [
    "print(data.keys())"
   ]
  },
  {
   "cell_type": "code",
   "execution_count": 27,
   "metadata": {},
   "outputs": [
    {
     "name": "stdout",
     "output_type": "stream",
     "text": [
      "[  286  1148  2022  3030  3968  4852  5816  6775  7714  8652  9592 10508\n",
      " 11390 12348 13225 14167 15091 16031 16902 17792 18642 19538 20465 21393\n",
      " 22294 23135 24006 24919 25754 26625 27448]\n",
      "31\n"
     ]
    }
   ],
   "source": [
    "timelist = data['timelist'][1:]\n",
    "cue_idx = np.rint(timelist * fs).astype(int)\n",
    "print(cue_idx)\n",
    "print(len(cue_idx))"
   ]
  },
  {
   "cell_type": "code",
   "execution_count": 28,
   "metadata": {},
   "outputs": [
    {
     "name": "stdout",
     "output_type": "stream",
     "text": [
      "(55, 5)\n"
     ]
    }
   ],
   "source": [
    "data_array = data_array[~np.isnan(data_array).any(axis=1)]\n",
    "print(data_array.shape)"
   ]
  },
  {
   "cell_type": "code",
   "execution_count": 29,
   "metadata": {},
   "outputs": [
    {
     "name": "stdout",
     "output_type": "stream",
     "text": [
      "(0, 5)\n"
     ]
    }
   ],
   "source": [
    "print(data_array[cue_idx[0]-num_back:cue_idx[0]+num_forward, :].shape)"
   ]
  },
  {
   "cell_type": "code",
   "execution_count": 30,
   "metadata": {},
   "outputs": [
    {
     "name": "stderr",
     "output_type": "stream",
     "text": [
      "/home/colin-wsl/.pyenv/versions/3.10.7/lib/python3.10/site-packages/numpy/core/fromnumeric.py:3432: RuntimeWarning: Mean of empty slice.\n",
      "  return _methods._mean(a, axis=axis, dtype=dtype,\n",
      "/home/colin-wsl/.pyenv/versions/3.10.7/lib/python3.10/site-packages/numpy/core/_methods.py:182: RuntimeWarning: invalid value encountered in divide\n",
      "  ret = um.true_divide(\n"
     ]
    },
    {
     "ename": "IndexError",
     "evalue": "index 0 is out of bounds for axis 0 with size 0",
     "output_type": "error",
     "traceback": [
      "\u001b[0;31m---------------------------------------------------------------------------\u001b[0m",
      "\u001b[0;31mIndexError\u001b[0m                                Traceback (most recent call last)",
      "Cell \u001b[0;32mIn [30], line 17\u001b[0m\n\u001b[1;32m     14\u001b[0m plt\u001b[39m.\u001b[39msuptitle(\u001b[39m'\u001b[39m\u001b[39mCharacter: \u001b[39m\u001b[39m{}\u001b[39;00m\u001b[39m\\n\u001b[39;00m\u001b[39m Top Five Neurons: \u001b[39m\u001b[39m{}\u001b[39;00m\u001b[39m'\u001b[39m\u001b[39m.\u001b[39mformat(char, np\u001b[39m.\u001b[39mflip(tops[\u001b[39m-\u001b[39m\u001b[39m5\u001b[39m:])))\n\u001b[1;32m     16\u001b[0m ax1 \u001b[39m=\u001b[39m fig\u001b[39m.\u001b[39madd_subplot(\u001b[39m221\u001b[39m)\n\u001b[0;32m---> 17\u001b[0m ax1\u001b[39m.\u001b[39mplot(x[\u001b[39m0\u001b[39;49m], \u001b[39m-\u001b[39mz[\u001b[39m0\u001b[39m], marker\u001b[39m=\u001b[39m\u001b[39m'\u001b[39m\u001b[39mo\u001b[39m\u001b[39m'\u001b[39m, color\u001b[39m=\u001b[39m\u001b[39m'\u001b[39m\u001b[39mred\u001b[39m\u001b[39m'\u001b[39m)\n\u001b[1;32m     18\u001b[0m ax1\u001b[39m.\u001b[39mplot(x[\u001b[39m-\u001b[39m\u001b[39m1\u001b[39m], \u001b[39m-\u001b[39mz[\u001b[39m-\u001b[39m\u001b[39m1\u001b[39m], marker\u001b[39m=\u001b[39m\u001b[39m'\u001b[39m\u001b[39mo\u001b[39m\u001b[39m'\u001b[39m, color\u001b[39m=\u001b[39m\u001b[39m'\u001b[39m\u001b[39mblue\u001b[39m\u001b[39m'\u001b[39m)\n\u001b[1;32m     19\u001b[0m ax1\u001b[39m.\u001b[39mquiver(x, \u001b[39m-\u001b[39mz, vx, \u001b[39m-\u001b[39mvz)\n",
      "\u001b[0;31mIndexError\u001b[0m: index 0 is out of bounds for axis 0 with size 0"
     ]
    },
    {
     "data": {
      "image/png": "[encoded data removed]",
      "text/plain": [
       "<Figure size 1300x1300 with 1 Axes>"
      ]
     },
     "metadata": {},
     "output_type": "display_data"
    }
   ],
   "source": [
    "cue = 0.5\n",
    "for i in range(len(cue_idx)):\n",
    "    temp_array = data_array[cue_idx[i]-num_back:cue_idx[i]+num_forward, :]\n",
    "    spikes_array, smoothed_spikes, time, dt, z, x, vz, vx = create_spikes_array(temp_array, tuning_curves, 3, seed)\n",
    "\n",
    "    mns = np.mean(spikes_array, axis=1)\n",
    "    mns_data = np.concatenate((smoothed_spikes, mns.reshape(-1,1)), axis=1)\n",
    "    tops = np.argpartition(mns, -5)\n",
    "    mns_data_sorted = mns_data[mns_data[:,-1].argsort()]\n",
    "\n",
    "    char = data['charPrompts'][i]\n",
    "\n",
    "    fig = plt.figure(figsize=(13,13))\n",
    "    plt.suptitle('Character: {}\\n Top Five Neurons: {}'.format(char, np.flip(tops[-5:])))\n",
    "\n",
    "    ax1 = fig.add_subplot(221)\n",
    "    ax1.plot(x[0], -z[0], marker='o', color='red')\n",
    "    ax1.plot(x[-1], -z[-1], marker='o', color='blue')\n",
    "    ax1.quiver(x, -z, vx, -vz)\n",
    "    ax1.set_xlabel('X (mm)', fontweight='bold')\n",
    "    ax1.set_ylabel('Z (mm)', fontweight='bold')\n",
    "    ax1.set_title('Vector Field')\n",
    "\n",
    "    ax2 = fig.add_subplot(222)\n",
    "    plot_raster(time, cue, spikes_array, char)\n",
    "\n",
    "    ax3 = fig.add_subplot(223)\n",
    "    ax3.imshow(smoothed_spikes)\n",
    "    ax3.set_title('Smoothed Spike Data')\n",
    "    ax3.set_xticks([])\n",
    "    ax3.set_yticks([])\n",
    "\n",
    "    ax4 = fig.add_subplot(224)\n",
    "    ax4.imshow(mns_data_sorted)\n",
    "    ax4.set_title('Sorted Smoothed Spike Data')\n",
    "    ax4.set_xticks([])\n",
    "    ax4.set_yticks([])\n",
    "    plt.show()"
   ]
  },
  {
   "cell_type": "code",
   "execution_count": null,
   "metadata": {},
   "outputs": [],
   "source": []
  }
 ],
 "metadata": {
  "kernelspec": {
   "display_name": "Python 3.10.7 64-bit ('3.10.7')",
   "language": "python",
   "name": "python3"
  },
  "language_info": {
   "codemirror_mode": {
    "name": "ipython",
    "version": 3
   },
   "file_extension": ".py",
   "mimetype": "text/x-python",
   "name": "python",
   "nbconvert_exporter": "python",
   "pygments_lexer": "ipython3",
   "version": "3.10.7"
  },
  "orig_nbformat": 4,
  "vscode": {
   "interpreter": {
    "hash": "b8e761260caf7501859b98684091f3a93ac3417d92b77a1c7411e4a91684a110"
   }
  }
 },
 "nbformat": 4,
 "nbformat_minor": 2
}
